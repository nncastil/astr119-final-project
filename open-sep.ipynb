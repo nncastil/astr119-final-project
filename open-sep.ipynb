{
 "cells": [
  {
   "cell_type": "markdown",
   "metadata": {},
   "source": [
    "for ModuleNotFoundError (airbrake)"
   ]
  },
  {
   "cell_type": "code",
   "execution_count": null,
   "metadata": {},
   "outputs": [],
   "source": [
    "# inner_import_3.6.py\n",
    "import sys\n",
    "from gw_utility.logging import Logging\n",
    "\n",
    "\n",
    "def main():\n",
    "    try:\n",
    "        Logging.log(sys.version)\n",
    "        import gw_utility.Book\n",
    "    except ImportError as error:\n",
    "        # Output expected ImportErrors.\n",
    "        Logging.log_exception(error)\n",
    "        # Include the name and path attributes in output.\n",
    "        Logging.log(f'error.name: {error.name}')\n",
    "        Logging.log(f'error.path: {error.path}')\n",
    "    except Exception as exception:\n",
    "        # Output unexpected Exceptions.\n",
    "        Logging.log_exception(exception, False)\n",
    "\n",
    "\n",
    "if __name__ == \"__main__\":\n",
    "    main()"
   ]
  },
  {
   "cell_type": "markdown",
   "metadata": {},
   "source": [
    "https://github.com/matterport/Mask_RCNN/issues/413"
   ]
  }
 ],
 "metadata": {
  "kernelspec": {
   "display_name": "Python 3",
   "language": "python",
   "name": "python3"
  },
  "language_info": {
   "codemirror_mode": {
    "name": "ipython",
    "version": 3
   },
   "file_extension": ".py",
   "mimetype": "text/x-python",
   "name": "python",
   "nbconvert_exporter": "python",
   "pygments_lexer": "ipython3",
   "version": "3.6.5"
  }
 },
 "nbformat": 4,
 "nbformat_minor": 2
}
